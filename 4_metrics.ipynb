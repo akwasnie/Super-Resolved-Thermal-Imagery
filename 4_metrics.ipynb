{
  "nbformat": 4,
  "nbformat_minor": 0,
  "metadata": {
    "colab": {
      "name": "Metrics",
      "provenance": []
    },
    "kernelspec": {
      "name": "python3",
      "display_name": "Python 3"
    },
    "language_info": {
      "name": "python"
    }
  },
  "cells": [
    {
      "cell_type": "markdown",
      "metadata": {
        "id": "ZaNKYpnzLfXI"
      },
      "source": [
        "# Metrics"
      ]
    },
    {
      "cell_type": "markdown",
      "metadata": {
        "id": "7PnfZuBtLhUf"
      },
      "source": [
        "## Imports"
      ]
    },
    {
      "cell_type": "code",
      "metadata": {
        "id": "mgn6smKWIWaR"
      },
      "source": [
        "import numpy as np\n",
        "np.random.seed(2021)\n",
        "import random\n",
        "random.seed(2021)\n",
        "\n",
        "from IPython.display import Markdown, display\n",
        "\n",
        "def printmd(string):\n",
        "    display(Markdown(string))"
      ],
      "execution_count": 2,
      "outputs": []
    },
    {
      "cell_type": "markdown",
      "metadata": {
        "id": "HUACl7HAqi7B"
      },
      "source": [
        "## Create Toy Datasets"
      ]
    },
    {
      "cell_type": "code",
      "metadata": {
        "colab": {
          "base_uri": "https://localhost:8080/"
        },
        "id": "rwT27VSwFD1n",
        "outputId": "e654db16-52f6-496e-9c91-efccbb1551c0"
      },
      "source": [
        "def print_count(db):\n",
        "    print(\"Database contains {} negative and {} positive samples\".format(db.count(0), db.count(1)))\n",
        "\n",
        "length = 100\n",
        "\n",
        "# Balanced\n",
        "db_balanced = [0] * (length//2) + [1] * (length//2)\n",
        "print_count(db=db_balanced)\n",
        "\n",
        "# More positives\n",
        "amount = random.uniform(0.9, 0.99)\n",
        "db_positives = [1] * int(length*amount) + [0] * int(length*(1-amount)+1)\n",
        "print_count(db=db_positives)\n",
        "\n",
        "# More negatives\n",
        "amount = random.uniform(0.9, 0.99)\n",
        "db_negatives = [0] * int(length*amount) + [1] * int(length*(1-amount)+1)\n",
        "print_count(db=db_negatives)"
      ],
      "execution_count": 76,
      "outputs": [
        {
          "output_type": "stream",
          "text": [
            "Database contains 50 negative and 50 positive samples\n",
            "Database contains 6 negative and 94 positive samples\n",
            "Database contains 90 negative and 10 positive samples\n"
          ],
          "name": "stdout"
        }
      ]
    },
    {
      "cell_type": "markdown",
      "metadata": {
        "id": "ib8W_WM-sprY"
      },
      "source": [
        "## Dummy model"
      ]
    },
    {
      "cell_type": "code",
      "metadata": {
        "id": "O_g-i3e8Ig5U"
      },
      "source": [
        "top_no = 95\n",
        "def dummy_model(data, threshold):\n",
        "    correct=0\n",
        "    output=[]\n",
        "    for i, d in enumerate(data):\n",
        "        if i < threshold or i > top_no :\n",
        "            output.append(d)\n",
        "            correct+=1\n",
        "        else:\n",
        "            output.append(abs(1-d))\n",
        "    return output"
      ],
      "execution_count": 123,
      "outputs": []
    },
    {
      "cell_type": "markdown",
      "metadata": {
        "id": "MtAIgwDFxxIi"
      },
      "source": [
        "### *Balanced dataset*"
      ]
    },
    {
      "cell_type": "code",
      "metadata": {
        "id": "Ayu-WlD0tDsx"
      },
      "source": [
        "balanced_threshold = 80\n",
        "out_balanced = dummy_model(db_balanced, balanced_threshold)"
      ],
      "execution_count": 124,
      "outputs": []
    },
    {
      "cell_type": "code",
      "metadata": {
        "colab": {
          "base_uri": "https://localhost:8080/",
          "height": 143
        },
        "id": "GKSXb78-tWwu",
        "outputId": "5545396b-5734-45b7-9225-ee69bdfb0a81"
      },
      "source": [
        "print('Labels:')\n",
        "printmd('{}**{}**{}'.format(db_balanced[:balanced_threshold], db_balanced[balanced_threshold:top_no], db_balanced[top_no+1:],))\n",
        "print('Predictions:')\n",
        "printmd('{}**{}**{}'.format(out_balanced[:balanced_threshold], out_balanced[balanced_threshold:top_no], out_balanced[top_no+1:],))"
      ],
      "execution_count": 125,
      "outputs": [
        {
          "output_type": "stream",
          "text": [
            "Labels:\n"
          ],
          "name": "stdout"
        },
        {
          "output_type": "display_data",
          "data": {
            "text/markdown": "[0, 0, 0, 0, 0, 0, 0, 0, 0, 0, 0, 0, 0, 0, 0, 0, 0, 0, 0, 0, 0, 0, 0, 0, 0, 0, 0, 0, 0, 0, 0, 0, 0, 0, 0, 0, 0, 0, 0, 0, 0, 0, 0, 0, 0, 0, 0, 0, 0, 0, 1, 1, 1, 1, 1, 1, 1, 1, 1, 1, 1, 1, 1, 1, 1, 1, 1, 1, 1, 1, 1, 1, 1, 1, 1, 1, 1, 1, 1, 1]**[1, 1, 1, 1, 1, 1, 1, 1, 1, 1, 1, 1, 1, 1, 1]**[1, 1, 1, 1]",
            "text/plain": [
              "<IPython.core.display.Markdown object>"
            ]
          },
          "metadata": {
            "tags": []
          }
        },
        {
          "output_type": "stream",
          "text": [
            "Predictions:\n"
          ],
          "name": "stdout"
        },
        {
          "output_type": "display_data",
          "data": {
            "text/markdown": "[0, 0, 0, 0, 0, 0, 0, 0, 0, 0, 0, 0, 0, 0, 0, 0, 0, 0, 0, 0, 0, 0, 0, 0, 0, 0, 0, 0, 0, 0, 0, 0, 0, 0, 0, 0, 0, 0, 0, 0, 0, 0, 0, 0, 0, 0, 0, 0, 0, 0, 1, 1, 1, 1, 1, 1, 1, 1, 1, 1, 1, 1, 1, 1, 1, 1, 1, 1, 1, 1, 1, 1, 1, 1, 1, 1, 1, 1, 1, 1]**[0, 0, 0, 0, 0, 0, 0, 0, 0, 0, 0, 0, 0, 0, 0]**[1, 1, 1, 1]",
            "text/plain": [
              "<IPython.core.display.Markdown object>"
            ]
          },
          "metadata": {
            "tags": []
          }
        }
      ]
    },
    {
      "cell_type": "markdown",
      "metadata": {
        "id": "aPQiRnnox2pi"
      },
      "source": [
        "### *More positives*"
      ]
    },
    {
      "cell_type": "code",
      "metadata": {
        "id": "DXsa1xWnx5ew"
      },
      "source": [
        "positives_threshold = 80\n",
        "out_positives = dummy_model(db_positives, positives_threshold)"
      ],
      "execution_count": 126,
      "outputs": []
    },
    {
      "cell_type": "code",
      "metadata": {
        "colab": {
          "base_uri": "https://localhost:8080/",
          "height": 143
        },
        "id": "RFHXg16Hyz_7",
        "outputId": "92338a78-ccef-4392-9528-24a70f05f3a0"
      },
      "source": [
        "print('Labels:')\n",
        "printmd('{}**{}**{}'.format(db_positives[:positives_threshold], db_positives[positives_threshold:top_no], db_positives[top_no+1:]))\n",
        "print('Predictions:')\n",
        "printmd('{}**{}**{}'.format(out_positives[:positives_threshold], out_positives[positives_threshold:top_no], out_positives[top_no+1:]))"
      ],
      "execution_count": 128,
      "outputs": [
        {
          "output_type": "stream",
          "text": [
            "Labels:\n"
          ],
          "name": "stdout"
        },
        {
          "output_type": "display_data",
          "data": {
            "text/markdown": "[1, 1, 1, 1, 1, 1, 1, 1, 1, 1, 1, 1, 1, 1, 1, 1, 1, 1, 1, 1, 1, 1, 1, 1, 1, 1, 1, 1, 1, 1, 1, 1, 1, 1, 1, 1, 1, 1, 1, 1, 1, 1, 1, 1, 1, 1, 1, 1, 1, 1, 1, 1, 1, 1, 1, 1, 1, 1, 1, 1, 1, 1, 1, 1, 1, 1, 1, 1, 1, 1, 1, 1, 1, 1, 1, 1, 1, 1, 1, 1]**[1, 1, 1, 1, 1, 1, 1, 1, 1, 1, 1, 1, 1, 1, 0]**[0, 0, 0, 0]",
            "text/plain": [
              "<IPython.core.display.Markdown object>"
            ]
          },
          "metadata": {
            "tags": []
          }
        },
        {
          "output_type": "stream",
          "text": [
            "Predictions:\n"
          ],
          "name": "stdout"
        },
        {
          "output_type": "display_data",
          "data": {
            "text/markdown": "[1, 1, 1, 1, 1, 1, 1, 1, 1, 1, 1, 1, 1, 1, 1, 1, 1, 1, 1, 1, 1, 1, 1, 1, 1, 1, 1, 1, 1, 1, 1, 1, 1, 1, 1, 1, 1, 1, 1, 1, 1, 1, 1, 1, 1, 1, 1, 1, 1, 1, 1, 1, 1, 1, 1, 1, 1, 1, 1, 1, 1, 1, 1, 1, 1, 1, 1, 1, 1, 1, 1, 1, 1, 1, 1, 1, 1, 1, 1, 1]**[0, 0, 0, 0, 0, 0, 0, 0, 0, 0, 0, 0, 0, 0, 1]**[0, 0, 0, 0]",
            "text/plain": [
              "<IPython.core.display.Markdown object>"
            ]
          },
          "metadata": {
            "tags": []
          }
        }
      ]
    },
    {
      "cell_type": "markdown",
      "metadata": {
        "id": "MP_c2crP0mJA"
      },
      "source": [
        "### *More negatives*"
      ]
    },
    {
      "cell_type": "code",
      "metadata": {
        "id": "6x9OQ7pS0rF7"
      },
      "source": [
        "negatives_threshold = 80\n",
        "out_negatives = dummy_model(db_negatives, negatives_threshold)"
      ],
      "execution_count": 129,
      "outputs": []
    },
    {
      "cell_type": "code",
      "metadata": {
        "colab": {
          "base_uri": "https://localhost:8080/",
          "height": 143
        },
        "id": "4qv3vRaj0xHd",
        "outputId": "82d6dc09-a1f9-4985-9e3a-396170cb957c"
      },
      "source": [
        "print('Labels:')\n",
        "printmd('{}**{}**{}'.format(db_negatives[:negatives_threshold], db_negatives[negatives_threshold:top_no], db_negatives[top_no+1:]))\n",
        "print('Predictions:')\n",
        "printmd('{}**{}**{}'.format(out_negatives[:negatives_threshold], out_negatives[negatives_threshold:top_no], db_negatives[top_no+1:]))"
      ],
      "execution_count": 131,
      "outputs": [
        {
          "output_type": "stream",
          "text": [
            "Labels:\n"
          ],
          "name": "stdout"
        },
        {
          "output_type": "display_data",
          "data": {
            "text/markdown": "[0, 0, 0, 0, 0, 0, 0, 0, 0, 0, 0, 0, 0, 0, 0, 0, 0, 0, 0, 0, 0, 0, 0, 0, 0, 0, 0, 0, 0, 0, 0, 0, 0, 0, 0, 0, 0, 0, 0, 0, 0, 0, 0, 0, 0, 0, 0, 0, 0, 0, 0, 0, 0, 0, 0, 0, 0, 0, 0, 0, 0, 0, 0, 0, 0, 0, 0, 0, 0, 0, 0, 0, 0, 0, 0, 0, 0, 0, 0, 0]**[0, 0, 0, 0, 0, 0, 0, 0, 0, 0, 1, 1, 1, 1, 1]**[1, 1, 1, 1]",
            "text/plain": [
              "<IPython.core.display.Markdown object>"
            ]
          },
          "metadata": {
            "tags": []
          }
        },
        {
          "output_type": "stream",
          "text": [
            "Predictions:\n"
          ],
          "name": "stdout"
        },
        {
          "output_type": "display_data",
          "data": {
            "text/markdown": "[0, 0, 0, 0, 0, 0, 0, 0, 0, 0, 0, 0, 0, 0, 0, 0, 0, 0, 0, 0, 0, 0, 0, 0, 0, 0, 0, 0, 0, 0, 0, 0, 0, 0, 0, 0, 0, 0, 0, 0, 0, 0, 0, 0, 0, 0, 0, 0, 0, 0, 0, 0, 0, 0, 0, 0, 0, 0, 0, 0, 0, 0, 0, 0, 0, 0, 0, 0, 0, 0, 0, 0, 0, 0, 0, 0, 0, 0, 0, 0]**[1, 1, 1, 1, 1, 1, 1, 1, 1, 1, 0, 0, 0, 0, 0]**[1, 1, 1, 1]",
            "text/plain": [
              "<IPython.core.display.Markdown object>"
            ]
          },
          "metadata": {
            "tags": []
          }
        }
      ]
    },
    {
      "cell_type": "markdown",
      "metadata": {
        "id": "KtuScxpys3Er"
      },
      "source": [
        "## Metrics"
      ]
    },
    {
      "cell_type": "markdown",
      "metadata": {
        "id": "b7s9JTGHs6ny"
      },
      "source": [
        "### **Accuracy**"
      ]
    },
    {
      "cell_type": "markdown",
      "metadata": {
        "id": "VYwMeunUJhu6"
      },
      "source": [
        ""
      ]
    },
    {
      "cell_type": "markdown",
      "metadata": {
        "id": "SuLo_oH7xieY"
      },
      "source": [
        "*Balanced dataset*\n"
      ]
    },
    {
      "cell_type": "code",
      "metadata": {
        "id": "lmsDgKbWs_EC"
      },
      "source": [
        "from sklearn.metrics import accuracy_score"
      ],
      "execution_count": 132,
      "outputs": []
    },
    {
      "cell_type": "code",
      "metadata": {
        "id": "NJRu_39BtAba"
      },
      "source": [
        "def acc(labels, predictions):\n",
        "  assert len(labels)==len(predictions)\n",
        "  acc = 0\n",
        "  for i,l in enumerate(labels):\n",
        "    if l==predictions[i]:\n",
        "      acc+=1\n",
        "  return acc/len(labels)"
      ],
      "execution_count": 133,
      "outputs": []
    },
    {
      "cell_type": "code",
      "metadata": {
        "id": "NoMyGKmgLb0N",
        "colab": {
          "base_uri": "https://localhost:8080/",
          "height": 69
        },
        "outputId": "0705f8a8-c71a-4b01-c6c5-2257da708828"
      },
      "source": [
        "printmd('Accuracy custom  {}'.format(acc(db_balanced, out_balanced)))\n",
        "printmd('Accuracy sklearn {}'.format(accuracy_score(db_balanced, out_balanced)))"
      ],
      "execution_count": 134,
      "outputs": [
        {
          "output_type": "display_data",
          "data": {
            "text/markdown": "Accuracy custom  0.84",
            "text/plain": [
              "<IPython.core.display.Markdown object>"
            ]
          },
          "metadata": {
            "tags": []
          }
        },
        {
          "output_type": "display_data",
          "data": {
            "text/markdown": "Accuracy sklearn 0.84",
            "text/plain": [
              "<IPython.core.display.Markdown object>"
            ]
          },
          "metadata": {
            "tags": []
          }
        }
      ]
    },
    {
      "cell_type": "markdown",
      "metadata": {
        "id": "Ccy10E8SxrFo"
      },
      "source": [
        "*More positives*"
      ]
    },
    {
      "cell_type": "code",
      "metadata": {
        "id": "KXJeQ3FoLhxD",
        "colab": {
          "base_uri": "https://localhost:8080/",
          "height": 69
        },
        "outputId": "0099f783-b2e3-4fec-cc86-d676a005a8be"
      },
      "source": [
        "printmd('Accuracy custom  {}'.format(acc(db_positives, out_positives)))\n",
        "printmd('Accuracy sklearn {}'.format(accuracy_score(db_positives, out_positives)))"
      ],
      "execution_count": 135,
      "outputs": [
        {
          "output_type": "display_data",
          "data": {
            "text/markdown": "Accuracy custom  0.84",
            "text/plain": [
              "<IPython.core.display.Markdown object>"
            ]
          },
          "metadata": {
            "tags": []
          }
        },
        {
          "output_type": "display_data",
          "data": {
            "text/markdown": "Accuracy sklearn 0.84",
            "text/plain": [
              "<IPython.core.display.Markdown object>"
            ]
          },
          "metadata": {
            "tags": []
          }
        }
      ]
    },
    {
      "cell_type": "markdown",
      "metadata": {
        "id": "dNg3HSBl05u5"
      },
      "source": [
        "*More negatives*"
      ]
    },
    {
      "cell_type": "code",
      "metadata": {
        "colab": {
          "base_uri": "https://localhost:8080/",
          "height": 69
        },
        "id": "Cx2g53N5MIqo",
        "outputId": "52cede1a-e09f-4374-b6a4-9fc89ae5c79a"
      },
      "source": [
        "printmd('Accuracy custom  {}'.format(acc(db_negatives, out_negatives)))\n",
        "printmd('Accuracy sklearn {}'.format(accuracy_score(db_negatives, out_negatives)))"
      ],
      "execution_count": 136,
      "outputs": [
        {
          "output_type": "display_data",
          "data": {
            "text/markdown": "Accuracy custom  0.84",
            "text/plain": [
              "<IPython.core.display.Markdown object>"
            ]
          },
          "metadata": {
            "tags": []
          }
        },
        {
          "output_type": "display_data",
          "data": {
            "text/markdown": "Accuracy sklearn 0.84",
            "text/plain": [
              "<IPython.core.display.Markdown object>"
            ]
          },
          "metadata": {
            "tags": []
          }
        }
      ]
    },
    {
      "cell_type": "markdown",
      "metadata": {
        "id": "KTznNaSf12Rp"
      },
      "source": [
        "*More positives - all positive predictions*"
      ]
    },
    {
      "cell_type": "code",
      "metadata": {
        "colab": {
          "base_uri": "https://localhost:8080/",
          "height": 46
        },
        "id": "dMTz85yd19-U",
        "outputId": "f0961dd0-4ac5-432b-de69-e12c3a4f04f1"
      },
      "source": [
        "printmd('Accuracy {}'.format(accuracy_score(db_positives, np.ones(length))))"
      ],
      "execution_count": 137,
      "outputs": [
        {
          "output_type": "display_data",
          "data": {
            "text/markdown": "Accuracy 0.94",
            "text/plain": [
              "<IPython.core.display.Markdown object>"
            ]
          },
          "metadata": {
            "tags": []
          }
        }
      ]
    },
    {
      "cell_type": "markdown",
      "metadata": {
        "id": "GL58rBek2CE9"
      },
      "source": [
        "*More negatives - all negative predictions*"
      ]
    },
    {
      "cell_type": "code",
      "metadata": {
        "colab": {
          "base_uri": "https://localhost:8080/",
          "height": 46
        },
        "id": "VUuMI2rg2J_Z",
        "outputId": "2ae7593c-350b-4d6e-e3d9-3a992ed6fe97"
      },
      "source": [
        "printmd('Accuracy {}'.format(accuracy_score(db_negatives, np.zeros(length))))"
      ],
      "execution_count": 138,
      "outputs": [
        {
          "output_type": "display_data",
          "data": {
            "text/markdown": "Accuracy 0.9",
            "text/plain": [
              "<IPython.core.display.Markdown object>"
            ]
          },
          "metadata": {
            "tags": []
          }
        }
      ]
    },
    {
      "cell_type": "markdown",
      "metadata": {
        "id": "3dNGLO2gOYNz"
      },
      "source": [
        "### **Confusion Matrix**"
      ]
    },
    {
      "cell_type": "markdown",
      "metadata": {
        "id": "BGyuzVVSRgjA"
      },
      "source": [
        ""
      ]
    },
    {
      "cell_type": "code",
      "metadata": {
        "id": "CrFzaWUoRhSR"
      },
      "source": [
        "from sklearn.metrics import confusion_matrix, ConfusionMatrixDisplay"
      ],
      "execution_count": 139,
      "outputs": []
    },
    {
      "cell_type": "markdown",
      "metadata": {
        "id": "4MWoqWaRRjbU"
      },
      "source": [
        "*Balanced dataset*"
      ]
    },
    {
      "cell_type": "code",
      "metadata": {
        "colab": {
          "base_uri": "https://localhost:8080/",
          "height": 300
        },
        "id": "VJbxGSFDRjbV",
        "outputId": "c0aa1b2b-8481-455e-b76f-32580a6ef4da"
      },
      "source": [
        "cmd = ConfusionMatrixDisplay(confusion_matrix(db_balanced, out_balanced), display_labels=[0,1])\n",
        "cmd.plot()"
      ],
      "execution_count": 140,
      "outputs": [
        {
          "output_type": "execute_result",
          "data": {
            "text/plain": [
              "<sklearn.metrics._plot.confusion_matrix.ConfusionMatrixDisplay at 0x7f52113c7110>"
            ]
          },
          "metadata": {
            "tags": []
          },
          "execution_count": 140
        },
        {
          "output_type": "display_data",
          "data": {
            "image/png": "[encoded data removed]",
            "text/plain": [
              "<Figure size 432x288 with 2 Axes>"
            ]
          },
          "metadata": {
            "tags": [],
            "needs_background": "light"
          }
        }
      ]
    },
    {
      "cell_type": "markdown",
      "metadata": {
        "id": "lX9stMaoRjbV"
      },
      "source": [
        "*More positives*"
      ]
    },
    {
      "cell_type": "code",
      "metadata": {
        "colab": {
          "base_uri": "https://localhost:8080/",
          "height": 300
        },
        "id": "ZzrYMuS8RjbV",
        "outputId": "678b0b92-6391-4cda-eae9-33dba59f3b31"
      },
      "source": [
        "cmd = ConfusionMatrixDisplay(confusion_matrix(db_positives, out_positives), display_labels=[0,1])\n",
        "cmd.plot()"
      ],
      "execution_count": 141,
      "outputs": [
        {
          "output_type": "execute_result",
          "data": {
            "text/plain": [
              "<sklearn.metrics._plot.confusion_matrix.ConfusionMatrixDisplay at 0x7f52113c78d0>"
            ]
          },
          "metadata": {
            "tags": []
          },
          "execution_count": 141
        },
        {
          "output_type": "display_data",
          "data": {
            "image/png": "[encoded data removed]",
            "text/plain": [
              "<Figure size 432x288 with 2 Axes>"
            ]
          },
          "metadata": {
            "tags": [],
            "needs_background": "light"
          }
        }
      ]
    },
    {
      "cell_type": "markdown",
      "metadata": {
        "id": "5qlL-pdVRjbV"
      },
      "source": [
        "*More negatives*"
      ]
    },
    {
      "cell_type": "code",
      "metadata": {
        "colab": {
          "base_uri": "https://localhost:8080/",
          "height": 300
        },
        "id": "3jIrcU0HRjbV",
        "outputId": "1cc1e7c2-ae90-42f2-bfc5-c08791778e0a"
      },
      "source": [
        "cmd = ConfusionMatrixDisplay(confusion_matrix(db_negatives, out_negatives), display_labels=[0,1])\n",
        "cmd.plot()"
      ],
      "execution_count": 142,
      "outputs": [
        {
          "output_type": "execute_result",
          "data": {
            "text/plain": [
              "<sklearn.metrics._plot.confusion_matrix.ConfusionMatrixDisplay at 0x7f521122f490>"
            ]
          },
          "metadata": {
            "tags": []
          },
          "execution_count": 142
        },
        {
          "output_type": "display_data",
          "data": {
            "image/png": "[encoded data removed]",
            "text/plain": [
              "<Figure size 432x288 with 2 Axes>"
            ]
          },
          "metadata": {
            "tags": [],
            "needs_background": "light"
          }
        }
      ]
    },
    {
      "cell_type": "markdown",
      "metadata": {
        "id": "PXqSUk5RRjbV"
      },
      "source": [
        "*More positives - all positive predictions*"
      ]
    },
    {
      "cell_type": "code",
      "metadata": {
        "colab": {
          "base_uri": "https://localhost:8080/",
          "height": 296
        },
        "id": "FjAXXGUyRjbV",
        "outputId": "a9c8b57e-b6af-43c0-f5ef-740a566eed78"
      },
      "source": [
        "cmd = ConfusionMatrixDisplay(confusion_matrix(db_positives, np.ones(length)), display_labels=[0,1])\n",
        "cmd.plot()"
      ],
      "execution_count": 143,
      "outputs": [
        {
          "output_type": "execute_result",
          "data": {
            "text/plain": [
              "<sklearn.metrics._plot.confusion_matrix.ConfusionMatrixDisplay at 0x7f521117f250>"
            ]
          },
          "metadata": {
            "tags": []
          },
          "execution_count": 143
        },
        {
          "output_type": "display_data",
          "data": {
            "image/png": "[encoded data removed]",
            "text/plain": [
              "<Figure size 432x288 with 2 Axes>"
            ]
          },
          "metadata": {
            "tags": [],
            "needs_background": "light"
          }
        }
      ]
    },
    {
      "cell_type": "markdown",
      "metadata": {
        "id": "oy1N3Ci0RjbV"
      },
      "source": [
        "*More negatives - all negative predictions*"
      ]
    },
    {
      "cell_type": "code",
      "metadata": {
        "colab": {
          "base_uri": "https://localhost:8080/",
          "height": 300
        },
        "id": "JQ2pmqqoRjbW",
        "outputId": "a5897333-cc65-4bff-d6d9-c09cc2b46445"
      },
      "source": [
        "cmd = ConfusionMatrixDisplay(confusion_matrix(db_negatives, np.zeros(length)), display_labels=[0,1])\n",
        "cmd.plot()"
      ],
      "execution_count": 144,
      "outputs": [
        {
          "output_type": "execute_result",
          "data": {
            "text/plain": [
              "<sklearn.metrics._plot.confusion_matrix.ConfusionMatrixDisplay at 0x7f5211163050>"
            ]
          },
          "metadata": {
            "tags": []
          },
          "execution_count": 144
        },
        {
          "output_type": "display_data",
          "data": {
            "image/png": "[encoded data removed]",
            "text/plain": [
              "<Figure size 432x288 with 2 Axes>"
            ]
          },
          "metadata": {
            "tags": [],
            "needs_background": "light"
          }
        }
      ]
    },
    {
      "cell_type": "markdown",
      "metadata": {
        "id": "FCx6fqc-3StA"
      },
      "source": [
        "### **Precision**"
      ]
    },
    {
      "cell_type": "markdown",
      "metadata": {
        "id": "iadtl_JTJd4a"
      },
      "source": [
        ""
      ]
    },
    {
      "cell_type": "code",
      "metadata": {
        "id": "oHAc8DiSM3ze"
      },
      "source": [
        "from sklearn.metrics import precision_score"
      ],
      "execution_count": 145,
      "outputs": []
    },
    {
      "cell_type": "code",
      "metadata": {
        "id": "TNbSKz7f3ZUZ"
      },
      "source": [
        "def precision(labels, predictions):\n",
        "  assert len(labels)==len(predictions)\n",
        "  tp=0\n",
        "  fp=0\n",
        "  #precision=tp/(tp+fp)\n",
        "  for i, p in enumerate(predictions):\n",
        "    if p == labels[i] and p == 1:\n",
        "      tp+=1\n",
        "    elif p != labels[i] and p ==1:\n",
        "      fp+=1\n",
        "  if (tp+fp)==0:\n",
        "    return 0\n",
        "  return tp/(tp+fp)"
      ],
      "execution_count": 146,
      "outputs": []
    },
    {
      "cell_type": "markdown",
      "metadata": {
        "id": "0-Am2lLc4mQR"
      },
      "source": [
        "*Balanced dataset*"
      ]
    },
    {
      "cell_type": "code",
      "metadata": {
        "colab": {
          "base_uri": "https://localhost:8080/",
          "height": 69
        },
        "id": "BLRiydnO4ixC",
        "outputId": "8ee5bb80-f172-46ac-b236-6506311e1832"
      },
      "source": [
        "printmd('Precision custom  {}'.format(precision(db_balanced, out_balanced)))\n",
        "printmd('Precision sklearn {}'.format(precision_score(db_balanced, out_balanced)))"
      ],
      "execution_count": 147,
      "outputs": [
        {
          "output_type": "display_data",
          "data": {
            "text/markdown": "Precision custom  1.0",
            "text/plain": [
              "<IPython.core.display.Markdown object>"
            ]
          },
          "metadata": {
            "tags": []
          }
        },
        {
          "output_type": "display_data",
          "data": {
            "text/markdown": "Precision sklearn 1.0",
            "text/plain": [
              "<IPython.core.display.Markdown object>"
            ]
          },
          "metadata": {
            "tags": []
          }
        }
      ]
    },
    {
      "cell_type": "markdown",
      "metadata": {
        "id": "Cj2Yma9N5EU_"
      },
      "source": [
        "*More positives*"
      ]
    },
    {
      "cell_type": "code",
      "metadata": {
        "colab": {
          "base_uri": "https://localhost:8080/",
          "height": 69
        },
        "id": "f7nAHEuh5HU7",
        "outputId": "c5f8ea53-a2cc-41fa-a1be-7a6f97ab1e70"
      },
      "source": [
        "printmd('Precision custom  {}'.format(precision(db_positives, out_positives)))\n",
        "printmd('Precision sklearn {}'.format(precision_score(db_positives, out_positives)))"
      ],
      "execution_count": 148,
      "outputs": [
        {
          "output_type": "display_data",
          "data": {
            "text/markdown": "Precision custom  0.975609756097561",
            "text/plain": [
              "<IPython.core.display.Markdown object>"
            ]
          },
          "metadata": {
            "tags": []
          }
        },
        {
          "output_type": "display_data",
          "data": {
            "text/markdown": "Precision sklearn 0.975609756097561",
            "text/plain": [
              "<IPython.core.display.Markdown object>"
            ]
          },
          "metadata": {
            "tags": []
          }
        }
      ]
    },
    {
      "cell_type": "markdown",
      "metadata": {
        "id": "cRdXfkLA6UeT"
      },
      "source": [
        "*More negatives*"
      ]
    },
    {
      "cell_type": "code",
      "metadata": {
        "colab": {
          "base_uri": "https://localhost:8080/",
          "height": 69
        },
        "id": "3ZjLORi06ZeJ",
        "outputId": "df694682-41c5-45b5-8922-7433ea202873"
      },
      "source": [
        "printmd('Precision custom  {}'.format(precision(db_negatives, out_negatives)))\n",
        "printmd('Precision sklearn {}'.format(precision_score(db_negatives, out_negatives)))"
      ],
      "execution_count": 149,
      "outputs": [
        {
          "output_type": "display_data",
          "data": {
            "text/markdown": "Precision custom  0.2857142857142857",
            "text/plain": [
              "<IPython.core.display.Markdown object>"
            ]
          },
          "metadata": {
            "tags": []
          }
        },
        {
          "output_type": "display_data",
          "data": {
            "text/markdown": "Precision sklearn 0.2857142857142857",
            "text/plain": [
              "<IPython.core.display.Markdown object>"
            ]
          },
          "metadata": {
            "tags": []
          }
        }
      ]
    },
    {
      "cell_type": "markdown",
      "metadata": {
        "id": "SC60Fixi9Gqw"
      },
      "source": [
        "*More positives - all positive predictions*"
      ]
    },
    {
      "cell_type": "code",
      "metadata": {
        "colab": {
          "base_uri": "https://localhost:8080/",
          "height": 69
        },
        "id": "bjzNpjB79HDi",
        "outputId": "60408690-0df6-4c3d-f68f-394a08a217ca"
      },
      "source": [
        "printmd('Precision custom  {}'.format(precision(db_positives, np.ones(length))))\n",
        "printmd('Precision sklearn {}'.format(precision_score(db_positives, np.ones(length))))"
      ],
      "execution_count": 150,
      "outputs": [
        {
          "output_type": "display_data",
          "data": {
            "text/markdown": "Precision custom  0.94",
            "text/plain": [
              "<IPython.core.display.Markdown object>"
            ]
          },
          "metadata": {
            "tags": []
          }
        },
        {
          "output_type": "display_data",
          "data": {
            "text/markdown": "Precision sklearn 0.94",
            "text/plain": [
              "<IPython.core.display.Markdown object>"
            ]
          },
          "metadata": {
            "tags": []
          }
        }
      ]
    },
    {
      "cell_type": "markdown",
      "metadata": {
        "id": "VTawz7jW9Qor"
      },
      "source": [
        "*More negatives - all negative predictions*"
      ]
    },
    {
      "cell_type": "code",
      "metadata": {
        "colab": {
          "base_uri": "https://localhost:8080/",
          "height": 129
        },
        "id": "AAldzU3d9RAZ",
        "outputId": "1976cad1-48d2-42ea-fd7a-00ff05c25dcd"
      },
      "source": [
        "printmd('Precision custom  {}'.format(precision(db_negatives, np.zeros(length))))\n",
        "printmd('Precision sklearn {}'.format(precision_score(db_negatives, np.zeros(length))))"
      ],
      "execution_count": 151,
      "outputs": [
        {
          "output_type": "display_data",
          "data": {
            "text/markdown": "Precision custom  0",
            "text/plain": [
              "<IPython.core.display.Markdown object>"
            ]
          },
          "metadata": {
            "tags": []
          }
        },
        {
          "output_type": "stream",
          "text": [
            "/usr/local/lib/python3.7/dist-packages/sklearn/metrics/_classification.py:1272: UndefinedMetricWarning: Precision is ill-defined and being set to 0.0 due to no predicted samples. Use `zero_division` parameter to control this behavior.\n",
            "  _warn_prf(average, modifier, msg_start, len(result))\n"
          ],
          "name": "stderr"
        },
        {
          "output_type": "display_data",
          "data": {
            "text/markdown": "Precision sklearn 0.0",
            "text/plain": [
              "<IPython.core.display.Markdown object>"
            ]
          },
          "metadata": {
            "tags": []
          }
        }
      ]
    },
    {
      "cell_type": "markdown",
      "metadata": {
        "id": "_f6bYQLQ3Zp6"
      },
      "source": [
        "### **Recall**"
      ]
    },
    {
      "cell_type": "markdown",
      "metadata": {
        "id": "3-LAfa9iJjqr"
      },
      "source": [
        ""
      ]
    },
    {
      "cell_type": "code",
      "metadata": {
        "id": "0n-ABqLGM8qT"
      },
      "source": [
        "from sklearn.metrics import recall_score"
      ],
      "execution_count": 152,
      "outputs": []
    },
    {
      "cell_type": "code",
      "metadata": {
        "id": "IgtRZQl13dt5"
      },
      "source": [
        "def recall(labels, predictions):\n",
        "  assert len(labels)==len(predictions)\n",
        "  tp=0\n",
        "  fn=0\n",
        "  #recall=tp/(tp+fn)\n",
        "  for i, p in enumerate(predictions):\n",
        "    if p == labels[i] and p == 1:\n",
        "      tp+=1\n",
        "    elif p != labels[i] and p ==0:\n",
        "      fn+=1\n",
        "  if (tp+fn)==0:\n",
        "    return 0\n",
        "  return tp/(tp+fn)"
      ],
      "execution_count": 153,
      "outputs": []
    },
    {
      "cell_type": "markdown",
      "metadata": {
        "id": "fTZTXQdEJ5N8"
      },
      "source": [
        "*Balanced dataset*"
      ]
    },
    {
      "cell_type": "code",
      "metadata": {
        "colab": {
          "base_uri": "https://localhost:8080/",
          "height": 69
        },
        "id": "hOtrKCJYJ8JH",
        "outputId": "28078cdb-ff1c-4828-8da9-0dfb34d99c70"
      },
      "source": [
        "printmd('Recall custom  {}'.format(recall(db_balanced, out_balanced)))\n",
        "printmd('Recall sklearn {}'.format(recall_score(db_balanced, out_balanced)))"
      ],
      "execution_count": 154,
      "outputs": [
        {
          "output_type": "display_data",
          "data": {
            "text/markdown": "Recall custom  0.68",
            "text/plain": [
              "<IPython.core.display.Markdown object>"
            ]
          },
          "metadata": {
            "tags": []
          }
        },
        {
          "output_type": "display_data",
          "data": {
            "text/markdown": "Recall sklearn 0.68",
            "text/plain": [
              "<IPython.core.display.Markdown object>"
            ]
          },
          "metadata": {
            "tags": []
          }
        }
      ]
    },
    {
      "cell_type": "markdown",
      "metadata": {
        "id": "Hy7MIqZeKEoq"
      },
      "source": [
        "*More positives*\n"
      ]
    },
    {
      "cell_type": "code",
      "metadata": {
        "colab": {
          "base_uri": "https://localhost:8080/",
          "height": 69
        },
        "id": "-no_xwTJKM5W",
        "outputId": "62553151-4a23-4f74-dbbd-e3aaa26d8f7a"
      },
      "source": [
        "printmd('Recall custom  {}'.format(recall(db_positives, out_positives)))\n",
        "printmd('Recall sklearn {}'.format(recall_score(db_positives, out_positives)))"
      ],
      "execution_count": 155,
      "outputs": [
        {
          "output_type": "display_data",
          "data": {
            "text/markdown": "Recall custom  0.851063829787234",
            "text/plain": [
              "<IPython.core.display.Markdown object>"
            ]
          },
          "metadata": {
            "tags": []
          }
        },
        {
          "output_type": "display_data",
          "data": {
            "text/markdown": "Recall sklearn 0.851063829787234",
            "text/plain": [
              "<IPython.core.display.Markdown object>"
            ]
          },
          "metadata": {
            "tags": []
          }
        }
      ]
    },
    {
      "cell_type": "markdown",
      "metadata": {
        "id": "Jt-t4ratKhW4"
      },
      "source": [
        "*More negatives*"
      ]
    },
    {
      "cell_type": "code",
      "metadata": {
        "colab": {
          "base_uri": "https://localhost:8080/",
          "height": 69
        },
        "id": "mD2xUGVXKkWd",
        "outputId": "56d93f09-cf94-407f-cc80-b34c95b27654"
      },
      "source": [
        "printmd('Recall custom  {}'.format(recall(db_negatives, out_negatives)))\n",
        "printmd('Recall sklearn {}'.format(recall_score(db_negatives, out_negatives)))"
      ],
      "execution_count": 156,
      "outputs": [
        {
          "output_type": "display_data",
          "data": {
            "text/markdown": "Recall custom  0.4",
            "text/plain": [
              "<IPython.core.display.Markdown object>"
            ]
          },
          "metadata": {
            "tags": []
          }
        },
        {
          "output_type": "display_data",
          "data": {
            "text/markdown": "Recall sklearn 0.4",
            "text/plain": [
              "<IPython.core.display.Markdown object>"
            ]
          },
          "metadata": {
            "tags": []
          }
        }
      ]
    },
    {
      "cell_type": "markdown",
      "metadata": {
        "id": "pf2UOuS6KzWV"
      },
      "source": [
        "*More positives - all positive predictions*"
      ]
    },
    {
      "cell_type": "code",
      "metadata": {
        "colab": {
          "base_uri": "https://localhost:8080/",
          "height": 69
        },
        "id": "gGQdjPQrK0Vo",
        "outputId": "9bfd9a8e-444c-4d75-ee30-c7b5b1ad23c0"
      },
      "source": [
        "printmd('Recall custom  {}'.format(recall(db_positives, np.ones(length))))\n",
        "printmd('Recall sklearn {}'.format(recall_score(db_positives, np.ones(length))))"
      ],
      "execution_count": 157,
      "outputs": [
        {
          "output_type": "display_data",
          "data": {
            "text/markdown": "Recall custom  1.0",
            "text/plain": [
              "<IPython.core.display.Markdown object>"
            ]
          },
          "metadata": {
            "tags": []
          }
        },
        {
          "output_type": "display_data",
          "data": {
            "text/markdown": "Recall sklearn 1.0",
            "text/plain": [
              "<IPython.core.display.Markdown object>"
            ]
          },
          "metadata": {
            "tags": []
          }
        }
      ]
    },
    {
      "cell_type": "markdown",
      "metadata": {
        "id": "IGD8hnhnLAC1"
      },
      "source": [
        "*More negatives - all negative predictions*"
      ]
    },
    {
      "cell_type": "code",
      "metadata": {
        "colab": {
          "base_uri": "https://localhost:8080/",
          "height": 69
        },
        "id": "ISqqVF3tLDXA",
        "outputId": "7ff493ac-d5d2-4363-8969-4a9971b4e8f8"
      },
      "source": [
        "printmd('Recall custom  {}'.format(recall(db_negatives, np.zeros(length))))\n",
        "printmd('Recall sklearn {}'.format(recall_score(db_negatives, np.zeros(length))))"
      ],
      "execution_count": 158,
      "outputs": [
        {
          "output_type": "display_data",
          "data": {
            "text/markdown": "Recall custom  0.0",
            "text/plain": [
              "<IPython.core.display.Markdown object>"
            ]
          },
          "metadata": {
            "tags": []
          }
        },
        {
          "output_type": "display_data",
          "data": {
            "text/markdown": "Recall sklearn 0.0",
            "text/plain": [
              "<IPython.core.display.Markdown object>"
            ]
          },
          "metadata": {
            "tags": []
          }
        }
      ]
    },
    {
      "cell_type": "markdown",
      "metadata": {
        "id": "JGjt25XTN3dh"
      },
      "source": [
        "### **False Positive Rate = Specificity**"
      ]
    },
    {
      "cell_type": "markdown",
      "metadata": {
        "id": "U0vXbuF0OG8e"
      },
      "source": [
        ""
      ]
    },
    {
      "cell_type": "code",
      "metadata": {
        "id": "4-HdNu9OOHq2"
      },
      "source": [
        "def fpr(labels, predictions):\n",
        "  assert len(labels)==len(predictions)\n",
        "  fp=0\n",
        "  tn=0\n",
        "  #fpr=fp/(fp+tn)\n",
        "  for i, p in enumerate(predictions):\n",
        "    if p == labels[i] and p == 0:\n",
        "      tn+=1\n",
        "    elif p != labels[i] and p == 1:\n",
        "      fp+=1\n",
        "  if (fp+tn)==0:\n",
        "    return 0\n",
        "  return fp/(fp+tn)"
      ],
      "execution_count": 167,
      "outputs": []
    },
    {
      "cell_type": "markdown",
      "metadata": {
        "id": "Oz5zjXuYRaHi"
      },
      "source": [
        "*Balanced dataset*"
      ]
    },
    {
      "cell_type": "code",
      "metadata": {
        "colab": {
          "base_uri": "https://localhost:8080/",
          "height": 46
        },
        "id": "thp05V5oRaHj",
        "outputId": "09653d0e-21ae-41b4-a16e-e6b462effbf5"
      },
      "source": [
        "printmd('fpr {}'.format(fpr(db_balanced, out_balanced)))"
      ],
      "execution_count": 168,
      "outputs": [
        {
          "output_type": "display_data",
          "data": {
            "text/markdown": "fpr 0.0",
            "text/plain": [
              "<IPython.core.display.Markdown object>"
            ]
          },
          "metadata": {
            "tags": []
          }
        }
      ]
    },
    {
      "cell_type": "markdown",
      "metadata": {
        "id": "ev1Lk7reRaHj"
      },
      "source": [
        "*More positives*"
      ]
    },
    {
      "cell_type": "code",
      "metadata": {
        "colab": {
          "base_uri": "https://localhost:8080/",
          "height": 46
        },
        "id": "7brzJvFORaHj",
        "outputId": "364dcbb6-5dc9-4074-b061-9a712d4a0bfa"
      },
      "source": [
        "printmd('fpr {}'.format(fpr(db_positives, out_positives)))"
      ],
      "execution_count": 169,
      "outputs": [
        {
          "output_type": "display_data",
          "data": {
            "text/markdown": "fpr 0.3333333333333333",
            "text/plain": [
              "<IPython.core.display.Markdown object>"
            ]
          },
          "metadata": {
            "tags": []
          }
        }
      ]
    },
    {
      "cell_type": "markdown",
      "metadata": {
        "id": "8a_Wt43tRaHj"
      },
      "source": [
        "*More negatives*"
      ]
    },
    {
      "cell_type": "code",
      "metadata": {
        "colab": {
          "base_uri": "https://localhost:8080/",
          "height": 46
        },
        "id": "uICXSZfSRaHj",
        "outputId": "de2562a3-38b3-4119-ccba-e83b032708fc"
      },
      "source": [
        "printmd('fpr {}'.format(fpr(db_negatives, out_negatives)))"
      ],
      "execution_count": 170,
      "outputs": [
        {
          "output_type": "display_data",
          "data": {
            "text/markdown": "fpr 0.1111111111111111",
            "text/plain": [
              "<IPython.core.display.Markdown object>"
            ]
          },
          "metadata": {
            "tags": []
          }
        }
      ]
    },
    {
      "cell_type": "markdown",
      "metadata": {
        "id": "FIa3J9XfRaHj"
      },
      "source": [
        "*More positives - all positive predictions*"
      ]
    },
    {
      "cell_type": "code",
      "metadata": {
        "colab": {
          "base_uri": "https://localhost:8080/",
          "height": 46
        },
        "id": "lJEHUZIXRaHk",
        "outputId": "d068ee68-fd92-4a95-be5a-e87428c61648"
      },
      "source": [
        "printmd('fpr {}'.format(fpr(db_positives, np.ones(length))))"
      ],
      "execution_count": 171,
      "outputs": [
        {
          "output_type": "display_data",
          "data": {
            "text/markdown": "fpr 1.0",
            "text/plain": [
              "<IPython.core.display.Markdown object>"
            ]
          },
          "metadata": {
            "tags": []
          }
        }
      ]
    },
    {
      "cell_type": "markdown",
      "metadata": {
        "id": "UqlO0n1bRaHk"
      },
      "source": [
        "*More negatives - all negative predictions*"
      ]
    },
    {
      "cell_type": "markdown",
      "metadata": {
        "id": "2NtwK7zBN-Ky"
      },
      "source": [
        "### **True Positive Rate = Recall = Sensitivity**"
      ]
    },
    {
      "cell_type": "markdown",
      "metadata": {
        "id": "cd2oM92L2T3g"
      },
      "source": [
        "### **F1 Score**"
      ]
    },
    {
      "cell_type": "markdown",
      "metadata": {
        "id": "ro74M83IL-dO"
      },
      "source": [
        ""
      ]
    },
    {
      "cell_type": "code",
      "metadata": {
        "id": "_NbdeF_Z-6Yv"
      },
      "source": [
        "from sklearn.metrics import f1_score"
      ],
      "execution_count": 159,
      "outputs": []
    },
    {
      "cell_type": "code",
      "metadata": {
        "id": "2MuuqZSkL_uF"
      },
      "source": [
        "def f1():\n",
        "  pass"
      ],
      "execution_count": 160,
      "outputs": []
    },
    {
      "cell_type": "markdown",
      "metadata": {
        "id": "iODsJeyQNjne"
      },
      "source": [
        "*Balanced dataset*"
      ]
    },
    {
      "cell_type": "code",
      "metadata": {
        "colab": {
          "base_uri": "https://localhost:8080/",
          "height": 0
        },
        "id": "WyCKYgEYNR3t",
        "outputId": "f260326f-ebc0-4495-a4f8-a87601f0f6c9"
      },
      "source": [
        "printmd('F1 sklearn {}'.format(f1_score(db_balanced, out_balanced)))"
      ],
      "execution_count": 161,
      "outputs": [
        {
          "output_type": "display_data",
          "data": {
            "text/markdown": "F1 sklearn 0.8095238095238095",
            "text/plain": [
              "<IPython.core.display.Markdown object>"
            ]
          },
          "metadata": {
            "tags": []
          }
        }
      ]
    },
    {
      "cell_type": "markdown",
      "metadata": {
        "id": "B8zixr54Nogu"
      },
      "source": [
        "*More positives*"
      ]
    },
    {
      "cell_type": "code",
      "metadata": {
        "colab": {
          "base_uri": "https://localhost:8080/",
          "height": 0
        },
        "id": "mQMzE0rcNrsc",
        "outputId": "ccedc0bb-2fa4-4e56-f38d-ba64a8a5d85c"
      },
      "source": [
        "printmd('F1 sklearn {}'.format(f1_score(db_positives, out_positives)))\n",
        "printmd('F1 sklearn weighted {}'.format(f1_score(db_positives, out_positives, average='weighted')))"
      ],
      "execution_count": 163,
      "outputs": [
        {
          "output_type": "display_data",
          "data": {
            "text/markdown": "F1 sklearn 0.9090909090909092",
            "text/plain": [
              "<IPython.core.display.Markdown object>"
            ]
          },
          "metadata": {
            "tags": []
          }
        },
        {
          "output_type": "display_data",
          "data": {
            "text/markdown": "F1 sklearn weighted 0.8745454545454546",
            "text/plain": [
              "<IPython.core.display.Markdown object>"
            ]
          },
          "metadata": {
            "tags": []
          }
        }
      ]
    },
    {
      "cell_type": "markdown",
      "metadata": {
        "id": "HedudbGaNsBA"
      },
      "source": [
        "*More negatives*"
      ]
    },
    {
      "cell_type": "code",
      "metadata": {
        "colab": {
          "base_uri": "https://localhost:8080/",
          "height": 0
        },
        "id": "o1x_RB09NvQ3",
        "outputId": "870942ee-553e-465d-ba42-f5d2b6f2913a"
      },
      "source": [
        "printmd('F1 sklearn {}'.format(f1_score(db_negatives, out_negatives)))\n",
        "printmd('F1 sklearn weighted {}'.format(f1_score(db_negatives, out_negatives, average='weighted')))"
      ],
      "execution_count": 164,
      "outputs": [
        {
          "output_type": "display_data",
          "data": {
            "text/markdown": "F1 sklearn 0.3333333333333333",
            "text/plain": [
              "<IPython.core.display.Markdown object>"
            ]
          },
          "metadata": {
            "tags": []
          }
        },
        {
          "output_type": "display_data",
          "data": {
            "text/markdown": "F1 sklearn weighted 0.8515151515151516",
            "text/plain": [
              "<IPython.core.display.Markdown object>"
            ]
          },
          "metadata": {
            "tags": []
          }
        }
      ]
    },
    {
      "cell_type": "markdown",
      "metadata": {
        "id": "7k5AVf5aNv4i"
      },
      "source": [
        "*More positives - all positive predictions*"
      ]
    },
    {
      "cell_type": "code",
      "metadata": {
        "colab": {
          "base_uri": "https://localhost:8080/",
          "height": 0
        },
        "id": "2FDLgTbzNysA",
        "outputId": "7783d580-09a2-4557-8c83-021e58b7a71d"
      },
      "source": [
        "printmd('F1 sklearn {}'.format(f1_score(db_positives, np.ones(length))))\n",
        "printmd('F1 sklearn weighted {}'.format(f1_score(db_positives, np.ones(length), average='weighted')))"
      ],
      "execution_count": 165,
      "outputs": [
        {
          "output_type": "display_data",
          "data": {
            "text/markdown": "F1 sklearn 0.9690721649484536",
            "text/plain": [
              "<IPython.core.display.Markdown object>"
            ]
          },
          "metadata": {
            "tags": []
          }
        },
        {
          "output_type": "display_data",
          "data": {
            "text/markdown": "F1 sklearn weighted 0.9109278350515464",
            "text/plain": [
              "<IPython.core.display.Markdown object>"
            ]
          },
          "metadata": {
            "tags": []
          }
        }
      ]
    },
    {
      "cell_type": "markdown",
      "metadata": {
        "id": "bqmRk5OzNzBH"
      },
      "source": [
        "*More negatives - all negative predictions*"
      ]
    },
    {
      "cell_type": "code",
      "metadata": {
        "colab": {
          "base_uri": "https://localhost:8080/",
          "height": 0
        },
        "id": "nMvuGMRcN1n6",
        "outputId": "da5eea40-6345-4c17-fad2-943c1a688dbd"
      },
      "source": [
        "printmd('F1 sklearn {}'.format(f1_score(db_negatives, np.zeros(length))))\n",
        "printmd('F1 sklearn weighted {}'.format(f1_score(db_negatives, np.zeros(length), average='weighted')))"
      ],
      "execution_count": 166,
      "outputs": [
        {
          "output_type": "display_data",
          "data": {
            "text/markdown": "F1 sklearn 0.0",
            "text/plain": [
              "<IPython.core.display.Markdown object>"
            ]
          },
          "metadata": {
            "tags": []
          }
        },
        {
          "output_type": "display_data",
          "data": {
            "text/markdown": "F1 sklearn weighted 0.8526315789473685",
            "text/plain": [
              "<IPython.core.display.Markdown object>"
            ]
          },
          "metadata": {
            "tags": []
          }
        }
      ]
    },
    {
      "cell_type": "code",
      "metadata": {
        "id": "k01oKP49Udv7"
      },
      "source": [
        ""
      ],
      "execution_count": null,
      "outputs": []
    }
  ]
}